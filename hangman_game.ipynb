{
  "nbformat": 4,
  "nbformat_minor": 0,
  "metadata": {
    "colab": {
      "provenance": [],
      "authorship_tag": "ABX9TyP3EytcU7WKSDf+xWvmGRXq",
      "include_colab_link": true
    },
    "kernelspec": {
      "name": "python3",
      "display_name": "Python 3"
    },
    "language_info": {
      "name": "python"
    }
  },
  "cells": [
    {
      "cell_type": "markdown",
      "metadata": {
        "id": "view-in-github",
        "colab_type": "text"
      },
      "source": [
        "<a href=\"https://colab.research.google.com/github/waleedch28/CodeAlpha_Hangman-Game/blob/main/hangman_game.ipynb\" target=\"_parent\"><img src=\"https://colab.research.google.com/assets/colab-badge.svg\" alt=\"Open In Colab\"/></a>"
      ]
    },
    {
      "cell_type": "code",
      "source": [
        "import random"
      ],
      "metadata": {
        "id": "OvIwbZ5b2jl-"
      },
      "execution_count": 1,
      "outputs": []
    },
    {
      "cell_type": "code",
      "source": [
        "# Predefined list of 5 words (no categories needed)\n",
        "words = [\"python\", \"hangman\", \"program\", \"computer\", \"keyboard\"]"
      ],
      "metadata": {
        "id": "Jwy8kVyN2mSf"
      },
      "execution_count": 2,
      "outputs": []
    },
    {
      "cell_type": "code",
      "source": [
        "# Introduction\n",
        "print(''' Welcome to Hangman game\n",
        "Guess the word to save the man!\n",
        "Let's go !!! ''')"
      ],
      "metadata": {
        "colab": {
          "base_uri": "https://localhost:8080/"
        },
        "id": "grLmXd2n2qKL",
        "outputId": "c26d2959-fb50-4c57-b03a-0dcc6f4f7818"
      },
      "execution_count": 3,
      "outputs": [
        {
          "output_type": "stream",
          "name": "stdout",
          "text": [
            " Welcome to Hangman game\n",
            "Guess the word to save the man!\n",
            "Let's go !!! \n"
          ]
        }
      ]
    },
    {
      "cell_type": "code",
      "source": [
        "\n",
        "# Choose a random word\n",
        "word = random.choice(words)"
      ],
      "metadata": {
        "id": "jZSz8QDt2thd"
      },
      "execution_count": 4,
      "outputs": []
    },
    {
      "cell_type": "code",
      "source": [
        "# Print the length of the word\n",
        "print(\"It is a word that has \"+ str(len(word)) + \" letters\")"
      ],
      "metadata": {
        "colab": {
          "base_uri": "https://localhost:8080/"
        },
        "id": "wMQ5iPKq2vi4",
        "outputId": "91ec784f-8783-4106-9275-f28e629062e9"
      },
      "execution_count": 5,
      "outputs": [
        {
          "output_type": "stream",
          "name": "stdout",
          "text": [
            "It is a word that has 6 letters\n"
          ]
        }
      ]
    },
    {
      "cell_type": "code",
      "source": [
        "# Simple hangman shapes (only 7 states for 6 wrong guesses)\n",
        "hangman = [\n",
        "\"\"\"\n",
        " ------\n",
        " |    |\n",
        " |\n",
        " |\n",
        " |\n",
        " |\n",
        " |\n",
        " |\n",
        " |\n",
        "----------\n",
        "\"\"\",\n",
        "\"\"\"\n",
        " ------\n",
        " |    |\n",
        " |    O\n",
        " |\n",
        " |\n",
        " |\n",
        " |\n",
        " |\n",
        " |\n",
        "----------\n",
        "\"\"\",\n",
        "\"\"\"\n",
        " ------\n",
        " |    |\n",
        " |    O\n",
        " |    |\n",
        " |\n",
        " |\n",
        " |\n",
        " |\n",
        " |\n",
        "----------\n",
        "\"\"\",\n",
        "\"\"\"\n",
        " ------\n",
        " |    |\n",
        " |    O\n",
        " |   /|\n",
        " |\n",
        " |\n",
        " |\n",
        " |\n",
        " |\n",
        "----------\n",
        "\"\"\",\n",
        "\"\"\"\n",
        " ------\n",
        " |    |\n",
        " |    O\n",
        " |   /|\\\\\n",
        " |\n",
        " |\n",
        " |\n",
        " |\n",
        " |\n",
        "----------\n",
        "\"\"\",\n",
        "\"\"\"\n",
        " ------\n",
        " |    |\n",
        " |    O\n",
        " |   /|\\\\\n",
        " |   /\n",
        " |\n",
        " |\n",
        " |\n",
        " |\n",
        "----------\n",
        "\"\"\",\n",
        "\"\"\"\n",
        " ------\n",
        " |    |\n",
        " |    O\n",
        " |   /|\\\\\n",
        " |   / \\\\\n",
        " |\n",
        " |\n",
        " |\n",
        " |\n",
        "----------\n",
        "\"\"\"]\n"
      ],
      "metadata": {
        "id": "RgATyt572-30"
      },
      "execution_count": 6,
      "outputs": []
    },
    {
      "cell_type": "code",
      "source": [
        "# Game initialization\n",
        "wrong = 0                         # number of wrong answers\n",
        "max_wrong = 6                     # maximum number of wrong answers (simplified)\n",
        "used = []                         # the used letters\n",
        "so_far = (\"-\") * len(word)        # the current form of the word\n",
        "\n",
        "print(\"\")\n"
      ],
      "metadata": {
        "colab": {
          "base_uri": "https://localhost:8080/"
        },
        "id": "2V4w4UWZ3CFk",
        "outputId": "d48f4358-14ac-4c9f-9c11-be968f1cf607"
      },
      "execution_count": 7,
      "outputs": [
        {
          "output_type": "stream",
          "name": "stdout",
          "text": [
            "\n"
          ]
        }
      ]
    },
    {
      "cell_type": "code",
      "source": [
        "# Game loop\n",
        "while wrong < max_wrong and so_far != word:\n",
        "  print(\" \")\n",
        "  print(hangman[wrong])                 # drawing the hangman\n",
        "  print(\"Word so far: \" + so_far)       # printing the form of the word\n",
        "  print(\"Letters used: \" + str(used))   # printing the used letters\n",
        "\n",
        "  # Ask user to enter a letter\n",
        "  guess = input(\"Enter your guess: \").lower()\n",
        "\n",
        "  # Validate input\n",
        "  if len(guess) != 1 or not guess.isalpha():\n",
        "    print(\"Please enter a single letter.\")\n",
        "    continue\n",
        "\n",
        "  # Check if letter was already used\n",
        "  if guess in used:\n",
        "    print(\"You've already used this letter. Try again...\")\n",
        "    continue\n",
        "\n",
        "  # Add the guessed letter to the \"used\" list\n",
        "  used.append(guess)\n",
        "\n",
        "  # Check if the guess is correct\n",
        "  if guess in word:\n",
        "    print(\"Correct! '\" + guess + \"' is in the word.\")\n",
        "\n",
        "    # Update the word display\n",
        "    new = \"\"\n",
        "    for i in range(len(word)):\n",
        "      if guess == word[i]:\n",
        "        new += guess\n",
        "      else:\n",
        "        new += so_far[i]\n",
        "\n",
        "    so_far = new\n",
        "\n",
        "  else:\n",
        "    print(\"Incorrect! Try again.\")\n",
        "    wrong += 1\n",
        "# Game over message\n",
        "print(\" \")\n",
        "print(hangman[wrong])  # Show final hangman state\n",
        "\n",
        "if wrong == max_wrong:\n",
        "  print(\"The word was: \" + word)\n",
        "  print(\"You didn't save the man :( , YOU LOSE!\")\n",
        "else:\n",
        "  print(\"Correct! The word is: \" + word)\n",
        "  print(\"You have saved the man :) , YOU WIN!\")"
      ],
      "metadata": {
        "colab": {
          "base_uri": "https://localhost:8080/"
        },
        "id": "-HhJxK_R3iAc",
        "outputId": "9b4f7825-91d2-46b4-b937-7ec5da5ecc8b"
      },
      "execution_count": 9,
      "outputs": [
        {
          "output_type": "stream",
          "name": "stdout",
          "text": [
            " \n",
            "\n",
            " ------\n",
            " |    |\n",
            " |    O\n",
            " |\n",
            " |\n",
            " |\n",
            " |\n",
            " |\n",
            " |\n",
            "----------\n",
            "\n",
            "Word so far: pyth--\n",
            "Letters used: ['p', 'y', 't', 'h', 'd']\n",
            "Enter your guess: p\n",
            "You've already used this letter. Try again...\n",
            " \n",
            "\n",
            " ------\n",
            " |    |\n",
            " |    O\n",
            " |\n",
            " |\n",
            " |\n",
            " |\n",
            " |\n",
            " |\n",
            "----------\n",
            "\n",
            "Word so far: pyth--\n",
            "Letters used: ['p', 'y', 't', 'h', 'd']\n",
            "Enter your guess: o\n",
            "Correct! 'o' is in the word.\n",
            " \n",
            "\n",
            " ------\n",
            " |    |\n",
            " |    O\n",
            " |\n",
            " |\n",
            " |\n",
            " |\n",
            " |\n",
            " |\n",
            "----------\n",
            "\n",
            "Word so far: pytho-\n",
            "Letters used: ['p', 'y', 't', 'h', 'd', 'o']\n",
            "Enter your guess: n\n",
            "Correct! 'n' is in the word.\n",
            " \n",
            "\n",
            " ------\n",
            " |    |\n",
            " |    O\n",
            " |\n",
            " |\n",
            " |\n",
            " |\n",
            " |\n",
            " |\n",
            "----------\n",
            "\n",
            "Correct! The word is: python\n",
            "You have saved the man :) , YOU WIN!\n"
          ]
        }
      ]
    }
  ]
}